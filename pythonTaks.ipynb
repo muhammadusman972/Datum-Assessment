{
 "cells": [
  {
   "cell_type": "markdown",
   "metadata": {},
   "source": [
    "1.Fill None Values: Given a list, replace None values with the previous non-None value. If\n",
    "consecutive Nones occur, fill each with the last non-None value. Example: [1, None, 1, 2,\n",
    "None] becomes [1, 1, 1, 2, 2]."
   ]
  },
  {
   "cell_type": "code",
   "execution_count": 1,
   "metadata": {},
   "outputs": [
    {
     "name": "stdout",
     "output_type": "stream",
     "text": [
      "[1, 1, 1, 2, 2]\n"
     ]
    }
   ],
   "source": [
    "# Created a function which relace None values\n",
    "def replaceNone(listNum):\n",
    "  # Loop on the list of values having None\n",
    "  for i in range(len(listNum)):\n",
    "    # Check if current value is none and it is not first index and assign the non none value to the index where none is present\n",
    "    if listNum[i]==None and i!=0:\n",
    "      listNum[i]=listNum[i-1]\n",
    "  return listNum\n",
    "numList=[1,None,1,2,None]\n",
    "print(replaceNone(numList))\n"
   ]
  },
  {
   "cell_type": "markdown",
   "metadata": {},
   "source": [
    "2.Mismatched Words Finder: Write a function that returns a list of words present in two\n",
    "strings that don't match in case. Example: Input: \"Datumlabs is an awesome place\",\n",
    "\"Datumlabs.io Is an AWESOME place\".\n",
    "Output: [\"is\", \"Is\", \"awesome\", \"AWESOME\"]."
   ]
  },
  {
   "cell_type": "code",
   "execution_count": 2,
   "metadata": {},
   "outputs": [
    {
     "name": "stdout",
     "output_type": "stream",
     "text": [
      "['is', 'Is', 'awesome', 'AWESOME']\n"
     ]
    }
   ],
   "source": [
    "def find_mismatched_words(string1, string2):\n",
    "    # Split the strings into lists of words\n",
    "    words1 = string1.split()\n",
    "    words2 = string2.split()\n",
    "\n",
    "    # Create a dictionary to store words in lowercase and their original cases\n",
    "    word_dict1 = {word.lower(): word for word in words1}\n",
    "    word_dict2 = {word.lower(): word for word in words2}\n",
    "\n",
    "    # Find words that are present in both strings but have different cases\n",
    "    mismatched_words = []\n",
    "    for word_lower in word_dict1:\n",
    "        if word_lower in word_dict2 and word_dict1[word_lower] != word_dict2[word_lower]:\n",
    "            mismatched_words.extend([word_dict1[word_lower], word_dict2[word_lower]])\n",
    "\n",
    "    return mismatched_words\n",
    "\n",
    "# Example usage\n",
    "string1 = \"Datumlabs is an awesome place\"\n",
    "string2 = \"Datumlabs.io Is an AWESOME place\"\n",
    "mismatched_words = find_mismatched_words(string1, string2)\n",
    "print(mismatched_words)  # Output: [\"is\", \"Is\", \"awesome\", \"AWESOME\"]\n"
   ]
  },
  {
   "cell_type": "markdown",
   "metadata": {},
   "source": [
    "3.Character Frequency Counter: Create a function to count the occurrences of a specific\n",
    "character in a string.\n",
    "Example: 'mississippi', 's' should return 3."
   ]
  },
  {
   "cell_type": "code",
   "execution_count": 3,
   "metadata": {},
   "outputs": [
    {
     "name": "stdout",
     "output_type": "stream",
     "text": [
      "2\n"
     ]
    }
   ],
   "source": [
    "def frequencyCounter(word, character):\n",
    "    # check if the word length is 0 which there is not any word\n",
    "    if len(word) == 0:\n",
    "        print(\"Word length is equal to 0.\")\n",
    "        return 0\n",
    "\n",
    "    # initialize with 0 to keep track of no of characters present in word string\n",
    "    count = 0\n",
    "\n",
    "    # iterate through the word and count occurrences of the character\n",
    "    for i in range(len(word)):\n",
    "        if word[i] == character:\n",
    "            count += 1\n",
    "\n",
    "    return count\n",
    "\n",
    "# Usage of function\n",
    "word=\"\"\n",
    "word=input(\"Enter the word for which you want to count number of characteritics : \")\n",
    "character = \"\"\n",
    "character=input(\"Enter the character which you want to count: \")\n",
    "print(frequencyCounter(word, character))\n"
   ]
  },
  {
   "cell_type": "markdown",
   "metadata": {},
   "source": [
    "4.Nth Largest Value Key Finder: Write a function to find the key of the nth largest value in a\n",
    "dictionary. Example:\n",
    "For {a: 1, b: 2, c: 100, d: 30}, and n = 2, return 'd'."
   ]
  },
  {
   "cell_type": "code",
   "execution_count": 7,
   "metadata": {},
   "outputs": [
    {
     "name": "stdout",
     "output_type": "stream",
     "text": [
      "The 3-th largest key-value pair is: Key: a, Value: 10\n"
     ]
    }
   ],
   "source": [
    "def NthLargest(dictionaryNum, n):\n",
    "    # Sort the dictionary by value in descending order and convert to a list of tuples\n",
    "    sortedDictionary = sorted(dictionaryNum.items(), key=lambda x: x[1], reverse=True)\n",
    "\n",
    "    # Check if the list has at least n elements\n",
    "    if n > len(sortedDictionary) or n <= 0:\n",
    "        print(\"Invalid input: 'n' is out of range.\")\n",
    "        return\n",
    "\n",
    "    # Get the n-th largest item (1-based index)\n",
    "    nth_largest_item = sortedDictionary[n - 1]\n",
    "\n",
    "    # Print the key and value of the n-th largest item\n",
    "    key, value = nth_largest_item\n",
    "    print(f\"The {n}-th largest key-value pair is: Key: {key}, Value: {value}\")\n",
    "\n",
    "# Usage of function\n",
    "NthLargest({'a': 10, 'b': 900, 'c': 3, 'd': 4, 'e': 89}, 3)\n"
   ]
  }
 ],
 "metadata": {
  "kernelspec": {
   "display_name": "Python 3",
   "language": "python",
   "name": "python3"
  },
  "language_info": {
   "codemirror_mode": {
    "name": "ipython",
    "version": 3
   },
   "file_extension": ".py",
   "mimetype": "text/x-python",
   "name": "python",
   "nbconvert_exporter": "python",
   "pygments_lexer": "ipython3",
   "version": "3.9.12"
  }
 },
 "nbformat": 4,
 "nbformat_minor": 2
}
